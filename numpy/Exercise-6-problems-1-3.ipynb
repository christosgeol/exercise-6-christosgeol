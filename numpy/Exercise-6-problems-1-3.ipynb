{
 "cells": [
  {
   "cell_type": "markdown",
   "metadata": {
    "deletable": false,
    "editable": false,
    "nbgrader": {
     "checksum": "9af72164c745ac19e1d38f2f7c825c4f",
     "grade": false,
     "grade_id": "cell-2944b51f008a0a55",
     "locked": true,
     "schema_version": 1,
     "solution": false
    }
   },
   "source": [
    "# Exercise 6 - Data analysis with NumPy\n",
    "\n",
    "In this week's exercise we will continue developing our skills using NumPy to analyze climate data.\n",
    "\n",
    "After making your changes, you will need to upload your changes to GitHub as usual.\n",
    "The answers to the questions in this week's exercise should be given by modifying the document in the requested places.\n",
    "\n",
    "If you are uncertain about **the style of your code**, take a look at the **[PEP 8 - Style guide for Python code](https://www.python.org/dev/peps/pep-0008/)**.  \n",
    "\n",
    " - **Exercise 6 is due by 16:00 on 17.10.**\n",
    " - Don't forget to check out the [hints for this week's exercise](https://geo-python.github.io/2018/lessons/L6/exercise-6.html) if you're having trouble.\n",
    " - Scores on this exercise are out of 20 points.\n",
    " - There are altogether 3 problems that you should solve. The fourth problem is optional for more advanced students (does not affect grading).\n",
    "\n",
    "## Data\n",
    "\n",
    "For problems 1-3 in this exercise we will be using climate data from the Helsinki-Vantaa airport station.\n",
    "For these problems, we have daily observations obtained from the [NOAA Global Historical Climatology Network](https://www.ncdc.noaa.gov/cdo-web/search?datasetid=GHCND).\n",
    "The file was downloaded using the \"Custom GHCN-Daily Text\" output format, including following attributes:\n",
    "\n",
    "| Attribute                | Description                      |\n",
    "|--------------------------|----------------------------------|\n",
    "| `STATION`                | Unique ID of the weather station |\n",
    "| `ELEVATION`              | Elevation of the station         |\n",
    "| `LATITUDE` , `LONGITUDE` | Coordinates of the station       |\n",
    "| `DATE`                   | Date of the measurement          |\n",
    "| `PRCP`                   | Precipitation                    |\n",
    "| `TAVG`                   | Average temperature              |\n",
    "| `TMAX`                   | Maximum temperature              |\n",
    "| `TMIN`                   | Minimum temperature              |\n",
    "\n",
    "The file for this problem is exactly as available from the NOAA website.\n",
    "You may want to take a look at the [data](data/1091402.txt).\n",
    "\n",
    "**Note**: Once again temperatures in this dataset are given in degrees Fahrenheit.\n",
    "\n",
    "Additional information about the data format can be found in the [hints for Exercise 6](https://geo-python.github.io/2018/lessons/L6/exercise-6.html)."
   ]
  },
  {
   "cell_type": "markdown",
   "metadata": {
    "deletable": false,
    "editable": false,
    "nbgrader": {
     "checksum": "7adda070b04b994a1f1b0f6f109eb2ba",
     "grade": false,
     "grade_id": "cell-967524312b0627d5",
     "locked": true,
     "schema_version": 1,
     "solution": false
    }
   },
   "source": [
    "# Problem 1 - Reading in a tricky data file (5 points)\n",
    "\n",
    "#### Overview\n",
    "\n",
    "You first task for this exercise is to read in the data file (`data/1091402.txt`) to a variable called **`data`**.\n",
    "This should be done using the `np.genfromtxt()` function, and the resulting NumPy array should have the following attributes:\n",
    "\n",
    "  - The numerical values for date, precipitation and temperatures read in as numbers (skip the other columns)\n",
    "  - The header rows of the datafile should be skipped\n",
    "  - The no-data values (assigned with value **`-9999`**) should properly be converted to `nan`\n",
    "  \n",
    "After successfully reading the data file you should find answers to the specific questions below, and upload your notebook to **your own repository** for this week's exercise.\n",
    "\n",
    "You can find hints about how to do these things in the [hints for Exercise 6](https://geo-python.github.io/2018/lessons/L6/exercise-6.html)."
   ]
  },
  {
   "cell_type": "markdown",
   "metadata": {
    "deletable": false,
    "editable": false,
    "nbgrader": {
     "checksum": "f686e5cda46cf3fff9a5c1218fd296ca",
     "grade": false,
     "grade_id": "cell-17916936a3cde083",
     "locked": true,
     "schema_version": 1,
     "solution": false
    }
   },
   "source": [
    "1. Read the file into variable **data**\n",
    "   - Skip the first two rows\n",
    "   - Read in only the date, precipitation, and temperatures values\n",
    "   - Convert the no-data values into `NaN` (values -9999)\n",
    "   - Split the data into 1D NumPy arrays called `date`, `precip`, `tavg`, `tmax`, and `tmin`"
   ]
  },
  {
   "cell_type": "code",
   "execution_count": 11,
   "metadata": {
    "deletable": false,
    "nbgrader": {
     "checksum": "1b1c13860a674aeb3aa2a5b0ac028550",
     "grade": false,
     "grade_id": "read_file",
     "locked": false,
     "schema_version": 1,
     "solution": true
    }
   },
   "outputs": [],
   "source": [
    "# YOUR CODE HERE\n",
    "import numpy as np"
   ]
  },
  {
   "cell_type": "code",
   "execution_count": 12,
   "metadata": {},
   "outputs": [],
   "source": [
    "fp = 'data/1091402.txt'\n",
    "data = np.genfromtxt(fp, skip_header=2, usecols=(4, 5, 6, 7, 8) )"
   ]
  },
  {
   "cell_type": "code",
   "execution_count": 13,
   "metadata": {
    "deletable": false,
    "editable": false,
    "nbgrader": {
     "checksum": "9fa275727a4cba7e0d64c4b992e78f4e",
     "grade": true,
     "grade_id": "read_file_tests",
     "locked": true,
     "points": 1.5,
     "schema_version": 1,
     "solution": false
    }
   },
   "outputs": [
    {
     "name": "stdout",
     "output_type": "stream",
     "text": [
      "[1.9520101e+07 3.1000000e-01 3.7000000e+01 3.9000000e+01 3.4000000e+01]\n"
     ]
    }
   ],
   "source": [
    "# Test print that should work\n",
    "print(data[0,:])"
   ]
  },
  {
   "cell_type": "code",
   "execution_count": 14,
   "metadata": {},
   "outputs": [],
   "source": [
    "data_mask = (data < -9998)\n",
    "data[data_mask] = np.nan"
   ]
  },
  {
   "cell_type": "code",
   "execution_count": 15,
   "metadata": {},
   "outputs": [
    {
     "name": "stdout",
     "output_type": "stream",
     "text": [
      "[[1.9520101e+07 3.1000000e-01 3.7000000e+01 3.9000000e+01 3.4000000e+01]\n",
      " [1.9520102e+07           nan 3.5000000e+01 3.7000000e+01 3.4000000e+01]\n",
      " [1.9520103e+07 1.4000000e-01 3.3000000e+01 3.6000000e+01           nan]\n",
      " ...\n",
      " [2.0171002e+07           nan 4.7000000e+01 4.9000000e+01 4.6000000e+01]\n",
      " [2.0171003e+07 9.4000000e-01 4.7000000e+01           nan 4.4000000e+01]\n",
      " [2.0171004e+07 5.1000000e-01 5.2000000e+01 5.6000000e+01           nan]]\n"
     ]
    }
   ],
   "source": [
    "print(data)"
   ]
  },
  {
   "cell_type": "code",
   "execution_count": 16,
   "metadata": {},
   "outputs": [
    {
     "data": {
      "text/plain": [
       "(23716, 5)"
      ]
     },
     "execution_count": 16,
     "metadata": {},
     "output_type": "execute_result"
    }
   ],
   "source": [
    "data.shape"
   ]
  },
  {
   "cell_type": "code",
   "execution_count": 17,
   "metadata": {},
   "outputs": [
    {
     "data": {
      "text/plain": [
       "numpy.ndarray"
      ]
     },
     "execution_count": 17,
     "metadata": {},
     "output_type": "execute_result"
    }
   ],
   "source": [
    "type(data)"
   ]
  },
  {
   "cell_type": "code",
   "execution_count": 18,
   "metadata": {},
   "outputs": [
    {
     "data": {
      "text/plain": [
       "array([34.])"
      ]
     },
     "execution_count": 18,
     "metadata": {},
     "output_type": "execute_result"
    }
   ],
   "source": [
    "data[0, 4:8]"
   ]
  },
  {
   "cell_type": "code",
   "execution_count": 19,
   "metadata": {},
   "outputs": [
    {
     "name": "stdout",
     "output_type": "stream",
     "text": [
      "[[1.9520101e+07 3.1000000e-01 3.7000000e+01 3.9000000e+01 3.4000000e+01]\n",
      " [1.9520102e+07           nan 3.5000000e+01 3.7000000e+01 3.4000000e+01]\n",
      " [1.9520103e+07 1.4000000e-01 3.3000000e+01 3.6000000e+01           nan]\n",
      " ...\n",
      " [2.0171002e+07           nan 4.7000000e+01 4.9000000e+01 4.6000000e+01]\n",
      " [2.0171003e+07 9.4000000e-01 4.7000000e+01           nan 4.4000000e+01]\n",
      " [2.0171004e+07 5.1000000e-01 5.2000000e+01 5.6000000e+01           nan]]\n"
     ]
    }
   ],
   "source": [
    "print(data)"
   ]
  },
  {
   "cell_type": "code",
   "execution_count": 107,
   "metadata": {},
   "outputs": [],
   "source": [
    "date = data[:, 0]\n",
    "precip = data[:, 1]\n",
    "tavg = data[:, 2]\n",
    "tmax = data[:, 3]\n",
    "tmin = data[:, 4]"
   ]
  },
  {
   "cell_type": "markdown",
   "metadata": {
    "deletable": false,
    "editable": false,
    "nbgrader": {
     "checksum": "6046fb65550f41bc930df5e974b304cf",
     "grade": false,
     "grade_id": "cell-af39760b5f113b14",
     "locked": true,
     "schema_version": 1,
     "solution": false
    }
   },
   "source": [
    "- How many no-data values (`nan`) are there for **`tavg`**?\n",
    "  - Assign your answer to a variable called **`tavg_nan_count`**"
   ]
  },
  {
   "cell_type": "code",
   "execution_count": 125,
   "metadata": {
    "deletable": false,
    "nbgrader": {
     "checksum": "cb4adf1a670ee6d853dfa132a0c6ccb5",
     "grade": false,
     "grade_id": "tavg_nan_count",
     "locked": false,
     "schema_version": 1,
     "solution": true
    }
   },
   "outputs": [
    {
     "name": "stdout",
     "output_type": "stream",
     "text": [
      "False\n"
     ]
    },
    {
     "data": {
      "text/plain": [
       "3308"
      ]
     },
     "execution_count": 125,
     "metadata": {},
     "output_type": "execute_result"
    }
   ],
   "source": [
    "# How many no-data values?\n",
    "# tavg_nan_count = \n",
    "\n",
    "# YOUR CODE HERE\n",
    "tavg_nan_count_mask = ~np.isfinite(tavg)\n",
    "print(tavg_nan_count)\n",
    "np.count_nonzero(tavg_nan_count_mask)"
   ]
  },
  {
   "cell_type": "code",
   "execution_count": 128,
   "metadata": {
    "deletable": false,
    "editable": false,
    "nbgrader": {
     "checksum": "e3fc50563b3e6b9beeeb2da38c6b0d36",
     "grade": true,
     "grade_id": "tavg_nan_count_tests",
     "locked": true,
     "points": 0.5,
     "schema_version": 1,
     "solution": false
    }
   },
   "outputs": [
    {
     "name": "stdout",
     "output_type": "stream",
     "text": [
      "3308\n"
     ]
    }
   ],
   "source": [
    "# This test print should print a number\n",
    "print(np.count_nonzero(tavg_nan_count_mask))"
   ]
  },
  {
   "cell_type": "markdown",
   "metadata": {
    "deletable": false,
    "editable": false,
    "nbgrader": {
     "checksum": "2f5c15398cd25c81a6dfabdc116b172e",
     "grade": false,
     "grade_id": "cell-08124a50d78738bc",
     "locked": true,
     "schema_version": 1,
     "solution": false
    }
   },
   "source": [
    "- How many no-data values (`nan`) are there for `tmin`?\n",
    "  - Assign your answer to a variable called **`tmin_nan_count`**"
   ]
  },
  {
   "cell_type": "code",
   "execution_count": 115,
   "metadata": {
    "deletable": false,
    "nbgrader": {
     "checksum": "9bb3a649992ba98e52c5c09c2d4448b5",
     "grade": false,
     "grade_id": "tmin_nan_count",
     "locked": false,
     "schema_version": 1,
     "solution": true
    }
   },
   "outputs": [
    {
     "name": "stdout",
     "output_type": "stream",
     "text": [
      "[False False False ... False False False]\n"
     ]
    },
    {
     "data": {
      "text/plain": [
       "3308"
      ]
     },
     "execution_count": 115,
     "metadata": {},
     "output_type": "execute_result"
    }
   ],
   "source": [
    "# How many no-data values?\n",
    "# tmin_nan_count = \n",
    "\n",
    "# YOUR CODE HERE\n",
    "tmin_nan_count_mask = ~np.isfinite(tavg)\n",
    "print(tmin_nan_count_mask)\n",
    "np.count_nonzero(tmin_nan_count_mask)"
   ]
  },
  {
   "cell_type": "code",
   "execution_count": 129,
   "metadata": {
    "deletable": false,
    "editable": false,
    "nbgrader": {
     "checksum": "f47b38882491512b49455bb8f5c1910a",
     "grade": true,
     "grade_id": "tmin_nan_count_tests",
     "locked": true,
     "points": 0.5,
     "schema_version": 1,
     "solution": false
    }
   },
   "outputs": [
    {
     "name": "stdout",
     "output_type": "stream",
     "text": [
      "3308\n"
     ]
    }
   ],
   "source": [
    "# This test print should print a number\n",
    "print(np.count_nonzero(tmin_nan_count_mask))\n"
   ]
  },
  {
   "cell_type": "markdown",
   "metadata": {
    "deletable": false,
    "editable": false,
    "nbgrader": {
     "checksum": "72a6f87f67a2c75632a994226822cbaa",
     "grade": false,
     "grade_id": "cell-5ff1f3743faf59da",
     "locked": true,
     "schema_version": 1,
     "solution": false
    }
   },
   "source": [
    "- How many days total are covered by this data file?\n",
    "  - Assign your answer into a variable called **`day_count`**"
   ]
  },
  {
   "cell_type": "code",
   "execution_count": 131,
   "metadata": {
    "deletable": false,
    "nbgrader": {
     "checksum": "d9fc6f8212ffb11db2f99cf5581eb46b",
     "grade": false,
     "grade_id": "day_count",
     "locked": false,
     "schema_version": 1,
     "solution": true
    }
   },
   "outputs": [
    {
     "name": "stdout",
     "output_type": "stream",
     "text": [
      "[ True  True  True ...  True  True  True]\n"
     ]
    },
    {
     "data": {
      "text/plain": [
       "23716"
      ]
     },
     "execution_count": 131,
     "metadata": {},
     "output_type": "execute_result"
    }
   ],
   "source": [
    "# How many days?\n",
    "# day_count = \n",
    "\n",
    "# YOUR CODE HERE\n",
    "date_count_mask = np.isfinite(date)\n",
    "print(date_count_mask)\n",
    "np.count_nonzero(date_count_mask)"
   ]
  },
  {
   "cell_type": "code",
   "execution_count": 134,
   "metadata": {
    "deletable": false,
    "editable": false,
    "nbgrader": {
     "checksum": "acd72741f24e13874f75afe110c025ff",
     "grade": true,
     "grade_id": "day_count_tests",
     "locked": true,
     "points": 0.5,
     "schema_version": 1,
     "solution": false
    }
   },
   "outputs": [],
   "source": [
    "# This test print should print a number\n",
    "#print(date_count)\n"
   ]
  },
  {
   "cell_type": "markdown",
   "metadata": {
    "deletable": false,
    "editable": false,
    "nbgrader": {
     "checksum": "69b9a304971838c1ba2b488a362eaaec",
     "grade": false,
     "grade_id": "cell-87d3e5650f24f46c",
     "locked": true,
     "schema_version": 1,
     "solution": false
    }
   },
   "source": [
    "- When was the first observation made (i.e., the oldest)?\n",
    "  - Assign your answer to a variable called **`first_obs`**"
   ]
  },
  {
   "cell_type": "code",
   "execution_count": 152,
   "metadata": {
    "deletable": false,
    "nbgrader": {
     "checksum": "644b73bbd7ebdcf0ce74b47da2f1af1a",
     "grade": false,
     "grade_id": "first_observation",
     "locked": false,
     "schema_version": 1,
     "solution": true
    }
   },
   "outputs": [],
   "source": [
    "# YOUR CODE HERE\n",
    "first_obs = date[0]\n"
   ]
  },
  {
   "cell_type": "code",
   "execution_count": 153,
   "metadata": {
    "deletable": false,
    "editable": false,
    "nbgrader": {
     "checksum": "fe830dda7b34b82cfa75a1a505f9be03",
     "grade": true,
     "grade_id": "first_observation_tests",
     "locked": true,
     "points": 0.5,
     "schema_version": 1,
     "solution": false
    }
   },
   "outputs": [
    {
     "name": "stdout",
     "output_type": "stream",
     "text": [
      "19520101.0\n"
     ]
    }
   ],
   "source": [
    "# This test print should print a number\n",
    "print(first_obs)\n"
   ]
  },
  {
   "cell_type": "markdown",
   "metadata": {
    "deletable": false,
    "editable": false,
    "nbgrader": {
     "checksum": "e509d8be53951dab3f2dd3cff97d3ca7",
     "grade": false,
     "grade_id": "cell-7926272be2c3a401",
     "locked": true,
     "schema_version": 1,
     "solution": false
    }
   },
   "source": [
    "- When was the last observation made (i.e., the most recent)?\n",
    "  - Assign your answer to a variable called **`last_obs`**"
   ]
  },
  {
   "cell_type": "code",
   "execution_count": 154,
   "metadata": {
    "deletable": false,
    "nbgrader": {
     "checksum": "50f101af15641ea140c067553635de2a",
     "grade": false,
     "grade_id": "last_observation",
     "locked": false,
     "schema_version": 1,
     "solution": true
    }
   },
   "outputs": [],
   "source": [
    "# YOUR CODE HERE\n",
    "last_obs = date[-1]"
   ]
  },
  {
   "cell_type": "code",
   "execution_count": 155,
   "metadata": {
    "deletable": false,
    "editable": false,
    "nbgrader": {
     "checksum": "be2eed6a43769ed677438b643b35f223",
     "grade": true,
     "grade_id": "last_observation_tests",
     "locked": true,
     "points": 0.5,
     "schema_version": 1,
     "solution": false
    }
   },
   "outputs": [
    {
     "name": "stdout",
     "output_type": "stream",
     "text": [
      "20171004.0\n"
     ]
    }
   ],
   "source": [
    "# This test print should print a number\n",
    "print(last_obs)\n"
   ]
  },
  {
   "cell_type": "markdown",
   "metadata": {
    "deletable": false,
    "editable": false,
    "nbgrader": {
     "checksum": "d1f82b8d2dbd427bc6676592b0424e10",
     "grade": false,
     "grade_id": "cell-4dd1d09669ca4455",
     "locked": true,
     "schema_version": 1,
     "solution": false
    }
   },
   "source": [
    "- What was the average temperature of the whole data file (all years)?\n",
    "  - Assign your answer to a variable called **`avg_temp`**"
   ]
  },
  {
   "cell_type": "code",
   "execution_count": 192,
   "metadata": {
    "deletable": false,
    "nbgrader": {
     "checksum": "817e554980d384801ca9c57474f435c5",
     "grade": false,
     "grade_id": "avg_temp",
     "locked": false,
     "schema_version": 1,
     "solution": true
    }
   },
   "outputs": [],
   "source": [
    "# YOUR CODE HERE\n",
    "avg_temp_69_mask = np.isfinite(tavg)\n",
    "avg_temp1=tavg[avg_temp_mask]\n",
    "avg_temp=np.mean(avg_temp1)"
   ]
  },
  {
   "cell_type": "code",
   "execution_count": 193,
   "metadata": {
    "deletable": false,
    "editable": false,
    "nbgrader": {
     "checksum": "c060567d42e2e3c5c35eb0560fc2db3d",
     "grade": true,
     "grade_id": "avg_temp_tests",
     "locked": true,
     "points": 0.5,
     "schema_version": 1,
     "solution": false
    }
   },
   "outputs": [
    {
     "name": "stdout",
     "output_type": "stream",
     "text": [
      "41.32408859270874\n"
     ]
    }
   ],
   "source": [
    "# This test print should print a number\n",
    "print(avg_temp)\n"
   ]
  },
  {
   "cell_type": "markdown",
   "metadata": {
    "deletable": false,
    "editable": false,
    "nbgrader": {
     "checksum": "631d800be7df89084bff7eb3c16aae12",
     "grade": false,
     "grade_id": "cell-6e97c08d57c2c016",
     "locked": true,
     "schema_version": 1,
     "solution": false
    }
   },
   "source": [
    "- What was the average **`TMAX`** temperature of the `Summer of 69` (i.e., including the months May, June, July, August of the year 1969)?\n",
    "  - Assign your answer to a variable called **`avg_temp_69`**"
   ]
  },
  {
   "cell_type": "code",
   "execution_count": 200,
   "metadata": {
    "deletable": false,
    "nbgrader": {
     "checksum": "5a6ab76f5242afe2e6244e446aacfccc",
     "grade": false,
     "grade_id": "avg_temp_69",
     "locked": false,
     "schema_version": 1,
     "solution": true
    }
   },
   "outputs": [
    {
     "name": "stdout",
     "output_type": "stream",
     "text": [
      "[array([19520101., 19520102., 19520103., 19520104., 19520105.])]\n"
     ]
    }
   ],
   "source": [
    "# YOUR CODE HERE\n",
    "date_fmt = \"YYYYMMDD\"\n",
    "date_fmt[0:4]\n",
    "year = [date[0:5]]\n",
    "print(year)"
   ]
  },
  {
   "cell_type": "code",
   "execution_count": null,
   "metadata": {},
   "outputs": [],
   "source": [
    "avg_temp_69 = np.isfinite(tavg)\n"
   ]
  },
  {
   "cell_type": "code",
   "execution_count": null,
   "metadata": {
    "deletable": false,
    "editable": false,
    "nbgrader": {
     "checksum": "ad202a4bc6064555ad6d604359595c95",
     "grade": true,
     "grade_id": "avg_temp_69_tests",
     "locked": true,
     "points": 0.5,
     "schema_version": 1,
     "solution": false
    }
   },
   "outputs": [],
   "source": [
    "# This test print should print a number\n",
    "print(avg_temp_69)\n"
   ]
  },
  {
   "cell_type": "markdown",
   "metadata": {
    "deletable": false,
    "editable": false,
    "nbgrader": {
     "checksum": "f629a98e0917d6a8b52c6caef881d1da",
     "grade": false,
     "grade_id": "cell-57b4b15919653fe9",
     "locked": true,
     "schema_version": 1,
     "solution": false
    }
   },
   "source": [
    "# Problem 2 - Calculating monthly average temperatures (7.5 points)\n",
    "\n",
    "For this problem your goal is to calculate monthly average temperature values in degrees Celsius from the daily values we have in the data file.\n",
    "You can use the approaches taught in Lessons 4, 5 and 6 to solve this.\n",
    "You can again consult the [hints for Exercise 6](https://geo-python.github.io/2018/lessons/L6/exercise-6.html) if you are stuck.\n",
    "\n",
    "**You can continue working with the same data that you used in Problem 1.**\n",
    "\n",
    "#### For this problem modify you should:\n",
    "\n",
    "1. Calculate the monthly average temperatures for the entire dataset (i.e., for each year separately) file using the approach shown in the lesson this week.\n",
    "    - You should store the average temperatures into a new NumPy array called **`temp_monthly`**.\n",
    "    - You will also need to create separate arrays called **`year`** and **`month`** to store the year and month from the date data. Be sure to use the temperature and date data with the `nan` values removed!\n",
    "    - Note you should only do this calculation for the years **1952-2016**!\n",
    "    - Also be aware that there is missing data for `tavg` for several years.\n",
    "2. Create a new array called **`temp_monthly_celsius`** with the same size as **`temp_monthly`** that has the monthly average temperatures in Celsius.\n",
    "3. Update and commit your changes to the notebook in your **own repository** of this week's exercise."
   ]
  },
  {
   "cell_type": "code",
   "execution_count": null,
   "metadata": {
    "deletable": false,
    "nbgrader": {
     "checksum": "624926dd8c80aeb9e54758f935a56203",
     "grade": false,
     "grade_id": "monthly_averages",
     "locked": false,
     "schema_version": 1,
     "solution": true
    }
   },
   "outputs": [],
   "source": [
    "# YOUR CODE HERE\n",
    "raise NotImplementedError()"
   ]
  },
  {
   "cell_type": "code",
   "execution_count": null,
   "metadata": {
    "deletable": false,
    "editable": false,
    "nbgrader": {
     "checksum": "73e9e1c90aa1b842dcc2b915b7aa3710",
     "grade": true,
     "grade_id": "monthly_averages_tests",
     "locked": true,
     "points": 7.5,
     "schema_version": 1,
     "solution": false
    }
   },
   "outputs": [],
   "source": []
  },
  {
   "cell_type": "markdown",
   "metadata": {
    "deletable": false,
    "editable": false,
    "nbgrader": {
     "checksum": "5de4cc6865e6bd1f136456ea2fd6c181",
     "grade": false,
     "grade_id": "cell-f9324a97db02ecad",
     "locked": true,
     "schema_version": 1,
     "solution": false
    }
   },
   "source": [
    "# Problem 3 - Calculating temperature anomalies (7.5 points)\n",
    "\n",
    "Our goal in this problem is to calculate monthly temperature anomalies in order to see how temperatures have changed over time, relative to the observation period between 1952-1980.\n",
    "\n",
    "We will again continue working with this same notebook.\n",
    "\n",
    "In order to complete the problem, you must do following things:\n",
    "\n",
    "- You need to calculate a mean temperature ***for each month*** over the period 1952-1980 using the data in the data file. As a result, you should end up with 12 values, 1 mean temperature for each month over that period, and store them in a new NumPy array called **`ref_temps`**.\n",
    "- You should also create a character string array called **`unique_months`** that contains a value for each month in the form below (i.e., January = `'01'`).\n",
    "   \n",
    "For example, your data should be something like that below, 1 value for each month of the year (12 total):\n",
    "   \n",
    "| unique_months    | ref_temps        |\n",
    "|------------------|------------------|\n",
    "| 01               | -5.350916        |\n",
    "| 02               | -5.941307        |\n",
    "| 03               | -2.440364        |\n",
    "| ...              | ...              |\n",
    "   \n",
    "*Remember, these temperatures should be in degrees Celsius.*\n",
    "\n",
    "- Once you have the monthly mean values for each of the 12 months, you can then calculate a temperature anomaly for every month in the `temp_monthly_celsius` array.\n",
    "- The temperature anomaly we want to calculate is simply the temperature for one month in `temp_monthly_celsius` minus the corresponding monthly reference temperature in `ref_temps`.\n",
    "    - Notice that these arrays are not the same size and you'll need a creative solution to this problem. The [hints for Exercise 6](https://geo-python.github.io/2018/lessons/L6/exercise-6.html) may help.\n",
    "- You should thus end up with three new arrays: \n",
    "\n",
    "    1. **`anomaly`**  showing the temperature anomaly, the difference in temperature for a given month (e.g., February 1960) compared to the average (e.g., for February 1952-1980) \n",
    "    2. **`unique_months`** indicating the month\n",
    "    3. **`ref_temps`** indicating the (monthly) reference temperature\n",
    "    \n",
    "- Update and commit your changes to the notebook in your **own repository** of this week's exercise."
   ]
  },
  {
   "cell_type": "code",
   "execution_count": null,
   "metadata": {
    "deletable": false,
    "nbgrader": {
     "checksum": "69525367033fce390f9150713e4023d2",
     "grade": false,
     "grade_id": "temperature_anomaly",
     "locked": false,
     "schema_version": 1,
     "solution": true
    }
   },
   "outputs": [],
   "source": [
    "# YOUR CODE HERE\n",
    "raise NotImplementedError()"
   ]
  },
  {
   "cell_type": "markdown",
   "metadata": {
    "deletable": false,
    "editable": false,
    "nbgrader": {
     "checksum": "9b64c100cd648425ba43805c62a0856c",
     "grade": false,
     "grade_id": "cell-a9505b0e0e1f25cd",
     "locked": true,
     "schema_version": 1,
     "solution": false
    }
   },
   "source": [
    "- What is the largest value in `anomaly` array?\n",
    "   - Print the answer in the cell below"
   ]
  },
  {
   "cell_type": "code",
   "execution_count": null,
   "metadata": {
    "deletable": false,
    "editable": false,
    "nbgrader": {
     "checksum": "2eb441db9b1d7520a8f6a4b309ebf006",
     "grade": true,
     "grade_id": "temperature_anomaly_tests",
     "locked": true,
     "points": 7.5,
     "schema_version": 1,
     "solution": false
    }
   },
   "outputs": [],
   "source": []
  },
  {
   "cell_type": "markdown",
   "metadata": {},
   "source": [
    "#### Done!\n",
    "\n",
    "That's it. Now you are ready with Problems 1-3. If you want, you can still continue with an optional [Problem 4](Exercise-6-problem-4.ipynb)."
   ]
  }
 ],
 "metadata": {
  "kernelspec": {
   "display_name": "Python 3",
   "language": "python",
   "name": "python3"
  },
  "language_info": {
   "codemirror_mode": {
    "name": "ipython",
    "version": 3
   },
   "file_extension": ".py",
   "mimetype": "text/x-python",
   "name": "python",
   "nbconvert_exporter": "python",
   "pygments_lexer": "ipython3",
   "version": "3.6.6"
  }
 },
 "nbformat": 4,
 "nbformat_minor": 2
}
